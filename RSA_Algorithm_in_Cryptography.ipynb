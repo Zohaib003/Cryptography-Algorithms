{
  "cells": [
    {
      "cell_type": "markdown",
      "metadata": {
        "id": "AOvpdPXqon4L"
      },
      "source": [
        "##M. Zohaib ASlam Khan\n",
        "##Bscs2019-57\n",
        "\n",
        "\n",
        "---\n",
        "\n",
        "\n",
        "\n",
        "---\n",
        "\n"
      ]
    },
    {
      "cell_type": "markdown",
      "metadata": {
        "id": "CW0fAnAIowbP"
      },
      "source": [
        "##**RSA Algorithm in Cryptography:**\n",
        "Write a code to generate runtime RSA keys between two users. You are not allowed to use any library for this piece of code. however, you can use mathematical libraries for the exponentiation, and gcd needed to be found."
      ]
    },
    {
      "cell_type": "markdown",
      "metadata": {
        "id": "Ya_KE0Bcpx6p"
      },
      "source": [
        "##RSA:\n",
        "####The Rivest-Shamir-Adleman(RSA) Algorithm is a public-key crypto algorithm. It is based on the principle that prime factorization of a large composite number is tough.  Only the private key of the receiver can decrypt the cipher message. RSA is a key pair generator.\n",
        "\n",
        "1. Choose two different large random prime numbers p and q<br/>\n",
        "2. Calculate n = p q<br/>\n",
        "n is the modulus for the public key and the private keys<br/>\n",
        "3. Calculate  ϕ ( n ) = ( p − 1 ) ( q − 1 )<br/>\n",
        "4. Choose an integer k such that 1 < k  < ϕ ( n ) and k is co-prime to ϕ ( n ) : k and ϕ ( n )  share no factors other than 1; gcd (k, ϕ ( n ))= 1.\n",
        "5. k is released as the public key exponent<br/>\n",
        "5. Compute d  to satisfy the  d k ≡ 1 ( mod ϕ ( n ) )  i.e.: d k = 1 + x ϕ ( n ) for some integer x<br/><br/>\n",
        "**d is kept as the private key exponent<br/>\n",
        "The public key consists of n and k.**<br/><br/>\n",
        "\n",
        "**The private key consists of p, q, and the private exponent d**\n",
        "\n",
        "RSA can de divided in to three steps.\n",
        "1. Key Genration\n",
        "2. Encryption\n",
        "3. Decrypyion\n",
        "\n",
        "\n",
        "---\n",
        "\n",
        "\n",
        "\n",
        "---\n",
        "\n"
      ]
    },
    {
      "cell_type": "markdown",
      "metadata": {
        "id": "WzMQ_kbSGq2C"
      },
      "source": [
        "#KEY Genration"
      ]
    },
    {
      "cell_type": "markdown",
      "metadata": {
        "id": "9XMmV94DrDfk"
      },
      "source": [
        "###Step1 \n",
        "##**Choose two different large random prime numbers p and q**\n",
        "##***Large prime numbers make RSA more efficient***\n",
        "##1st try\n",
        "Computation of Prime number is very constly. it takes lot of time and resources, so for this assigment I will remain in range of 10,000 to 100,000.<br/>\n",
        "- We will choose two random numbers within this range. <br/>\n",
        "\n",
        "##2nd try\n",
        "But there is one more problem. when we calcuate d which is very large because of large prime numbers.<br/>Computation is very costly, machine got stucked, my one :)\n",
        "\n",
        "So we wii use b/w 100 t0 1000"
      ]
    },
    {
      "cell_type": "code",
      "execution_count": 11,
      "metadata": {
        "colab": {
          "base_uri": "https://localhost:8080/"
        },
        "id": "iofPHC-AoW3k",
        "outputId": "ecb64b2f-0317-49d9-91c3-e202d35b4ba4"
      },
      "outputs": [
        {
          "output_type": "stream",
          "name": "stdout",
          "text": [
            "Prime numbers between 100 and 1000 are:\n",
            "[101, 103, 107, 109, 113, 127, 131, 137, 139, 149, 151, 157, 163, 167, 173, 179, 181, 191, 193, 197, 199, 211, 223, 227, 229, 233, 239, 241, 251, 257, 263, 269, 271, 277, 281, 283, 293, 307, 311, 313, 317, 331, 337, 347, 349, 353, 359, 367, 373, 379, 383, 389, 397, 401, 409, 419, 421, 431, 433, 439, 443, 449, 457, 461, 463, 467, 479, 487, 491, 499, 503, 509, 521, 523, 541, 547, 557, 563, 569, 571, 577, 587, 593, 599, 601, 607, 613, 617, 619, 631, 641, 643, 647, 653, 659, 661, 673, 677, 683, 691, 701, 709, 719, 727, 733, 739, 743, 751, 757, 761, 769, 773, 787, 797, 809, 811, 821, 823, 827, 829, 839, 853, 857, 859, 863, 877, 881, 883, 887, 907, 911, 919, 929, 937, 941, 947, 953, 967, 971, 977, 983, 991, 997]\n"
          ]
        }
      ],
      "source": [
        "# Python program to display all the prime numbers within an interval\n",
        "\n",
        "lower = 100\n",
        "upper = 1000\n",
        "list_of_prime= []\n",
        "print(\"Prime numbers between\", lower, \"and\", upper, \"are:\")\n",
        "\n",
        "for num in range(lower, upper + 1):\n",
        "   # all prime numbers are greater than 1\n",
        "   if num > 1:\n",
        "       for i in range(2, num):\n",
        "           if (num % i) == 0:\n",
        "               break\n",
        "       else:\n",
        "           list_of_prime.append(num)\n",
        "print(list_of_prime)"
      ]
    },
    {
      "cell_type": "code",
      "execution_count": 12,
      "metadata": {
        "colab": {
          "base_uri": "https://localhost:8080/"
        },
        "id": "KamGQ4L19eCE",
        "outputId": "bd5365c4-f87f-4f96-f613-b38dc925c25b"
      },
      "outputs": [
        {
          "output_type": "execute_result",
          "data": {
            "text/plain": [
              "143"
            ]
          },
          "metadata": {},
          "execution_count": 12
        }
      ],
      "source": [
        "len(list_of_prime)"
      ]
    },
    {
      "cell_type": "markdown",
      "metadata": {
        "id": "Uxs_DKCEonN4"
      },
      "source": [
        "##We  have 1061 prime numbers. \n",
        "Not pretty enough but they well work for this assigment.\n"
      ]
    },
    {
      "cell_type": "code",
      "execution_count": 13,
      "metadata": {
        "colab": {
          "base_uri": "https://localhost:8080/"
        },
        "id": "4KwftvPN-NX5",
        "outputId": "9fa85505-4a4e-4e74-bb63-0eeac4e65f28"
      },
      "outputs": [
        {
          "output_type": "stream",
          "name": "stdout",
          "text": [
            " p =  811\n",
            " q =  533\n"
          ]
        }
      ],
      "source": [
        "#Choosing two random numbers\n",
        "import random\n",
        "randoms = []\n",
        "while len(randoms)<2:                               \n",
        "  N = random.randint(lower,upper)                     #two prime numbers must not be same so check is placed\n",
        "  if N not in randoms:\n",
        "    randoms.append(N)\n",
        "\n",
        "p = randoms[0]\n",
        "q = randoms[1]\n",
        "print(\" p = \",p)\n",
        "print(\" q = \",q)\n"
      ]
    },
    {
      "cell_type": "markdown",
      "metadata": {
        "id": "bX1aSzYn_8kz"
      },
      "source": [
        "##Step 2 :\n",
        "###**n = p * q**"
      ]
    },
    {
      "cell_type": "code",
      "execution_count": 14,
      "metadata": {
        "colab": {
          "base_uri": "https://localhost:8080/"
        },
        "id": "BlhJ-eVoAP-8",
        "outputId": "f8e72be1-e904-4610-adb0-61a17a305f09"
      },
      "outputs": [
        {
          "output_type": "execute_result",
          "data": {
            "text/plain": [
              "432263"
            ]
          },
          "metadata": {},
          "execution_count": 14
        }
      ],
      "source": [
        "n = p*q\n",
        "n"
      ]
    },
    {
      "cell_type": "markdown",
      "metadata": {
        "id": "MYKQwqHkAi5h"
      },
      "source": [
        "##Step 3 \n",
        "###**Calculate ϕ ( n ) = ( p − 1 ) ( q − 1 )**"
      ]
    },
    {
      "cell_type": "code",
      "execution_count": 15,
      "metadata": {
        "colab": {
          "base_uri": "https://localhost:8080/"
        },
        "id": "p_ocUIIaAiWR",
        "outputId": "06850eb3-3f38-44eb-8861-891e3bee84c7"
      },
      "outputs": [
        {
          "output_type": "stream",
          "name": "stdout",
          "text": [
            "phi_of_n =  430920\n"
          ]
        }
      ],
      "source": [
        "phi_of_n = (p-1)*(q-1)\n",
        "print(\"phi_of_n = \",phi_of_n)"
      ]
    },
    {
      "cell_type": "markdown",
      "metadata": {
        "id": "FAO77u-EBhQ2"
      },
      "source": [
        "##Step 4\n",
        "###**Choose an integer e such that 1 < e < ϕ ( n ) and k is co-prime to ϕ ( n ) : e and**\n",
        "###**ϕ ( n ) share no factors other than 1; gcd (e, ϕ ( n ))= 1.**"
      ]
    },
    {
      "cell_type": "code",
      "execution_count": 16,
      "metadata": {
        "id": "R4tXokn5CBAa"
      },
      "outputs": [],
      "source": [
        "import math\n",
        "def es(e,phi_of_n):\n",
        "  e=e\n",
        "  for i in range(e,(phi_of_n-1)): \n",
        "          # e ∈ {1,2,...,Φ(n)−1}\n",
        "      if math.gcd(i,phi_of_n) == 1:       # gcd (k, ϕ ( n ))= 1.\n",
        "        e = i\n",
        "        return e\n",
        "  return 0"
      ]
    },
    {
      "cell_type": "markdown",
      "metadata": {
        "id": "9MR1JC0HEnNV"
      },
      "source": [
        "##Step 5\n",
        "##**Compute d to satisfy the d k ≡ 1 ( mod ϕ ( n ) ) i.e.: d e = 1 + k ϕ ( n ) for some integer x**\n",
        "###As de = mod ϕ ( n )\n",
        "###  d =( 1/e)mod ϕ ( n )\n",
        "### d  = 1 + k ϕ ( n ) / e\n",
        "\n",
        "We will check value of k until we get non decimal value."
      ]
    },
    {
      "cell_type": "code",
      "execution_count": 17,
      "metadata": {
        "id": "CwFnJPIsFJRp"
      },
      "outputs": [],
      "source": [
        "def d_value(e, phi_of_n):\n",
        "\n",
        "  a = e\n",
        "  b = phi_of_n\n",
        "  for k in range(phi_of_n):\n",
        "    x = (1 + k*(phi_of_n)) / a\n",
        "    y = x\n",
        "    x= str(x).split(\".\")\n",
        "    # print(x,y)\n",
        "    if int(x[1]) == 0:\n",
        "      return int(y)\n",
        "\n"
      ]
    },
    {
      "cell_type": "markdown",
      "metadata": {
        "id": "yBtPJh2UMYzj"
      },
      "source": [
        "#Encryption"
      ]
    },
    {
      "cell_type": "code",
      "execution_count": 18,
      "metadata": {
        "id": "kVVp5saIMcuY"
      },
      "outputs": [],
      "source": [
        "def encrypt(msg, e, n):\n",
        "\n",
        "  cipher = []\n",
        "  for char in msg:\n",
        "   t = (ord(char))**e % n\n",
        "   cipher.append(t)\n",
        "   \n",
        "  return cipher"
      ]
    },
    {
      "cell_type": "markdown",
      "metadata": {
        "id": "TRb-_nQXMb2v"
      },
      "source": [
        "#Decryption"
      ]
    },
    {
      "cell_type": "code",
      "execution_count": 19,
      "metadata": {
        "id": "7LN4v-98TIOo"
      },
      "outputs": [],
      "source": [
        "def decrypt(cipher, d, n):\n",
        "\n",
        "  msg = \"\"\n",
        "  for char in cipher:\n",
        "    msg+=(chr((char**d) % n))\n",
        "\n",
        "  return msg"
      ]
    },
    {
      "cell_type": "markdown",
      "source": [
        "###Write another script which asks the user for key generation using RSA algorithm."
      ],
      "metadata": {
        "id": "Z9M9MSq0U1Wg"
      }
    },
    {
      "cell_type": "code",
      "execution_count": 23,
      "metadata": {
        "colab": {
          "base_uri": "https://localhost:8080/"
        },
        "id": "CqqUEVfws6fI",
        "outputId": "01330b57-ad11-4242-ee43-5016cfdef167"
      },
      "outputs": [
        {
          "output_type": "stream",
          "name": "stdout",
          "text": [
            "RSA Encrypter/ Decrypter\n",
            "\n",
            "\n",
            "\n",
            "Your public key e is  11  and your private key d is  352571 \n",
            "\n",
            "Enter a message to encrypt with your private key:\n",
            " Thsi will de encrypted by RSA Algorith\n",
            "your input message is \n",
            "\n",
            ">> Thsi will de encrypted by RSA Algorith \n",
            "\n",
            "Your encrypted message is ...:\n",
            "\n",
            ">> 719531147251785223161742249761571903161741436214362224976208913146527224976146527311114376186976741537317685718242814652720891322497664755415373224976238989338333193427224976193427143623825502462619767316174182428114725\n",
            "\n",
            "\n",
            "Decrypting message with public key  352571  . . .\n",
            "\n",
            "Your decrypted message is  :  Thsi will de encrypted by RSA Algorith\n"
          ]
        }
      ],
      "source": [
        "if __name__ == '__main__':\n",
        "    print (\"RSA Encrypter/ Decrypter\\n\")\n",
        "    e = es(2,phi_of_n)\n",
        "    d = d_value(e,phi_of_n)\n",
        "    print(\"\\n\")\n",
        "    print (\"Your public key e is \", e ,\" and your private key d is \", d,\"\\n\")\n",
        "    msg = input(\"Enter a message to encrypt with your private key:\\n \")\n",
        "    print(\"your input message is \\n\\n>>\" ,msg,\"\\n\")\n",
        "    print (\"Your encrypted message is ...:\\n\")\n",
        "    a = encrypt(msg,e,n)\n",
        "    print (\">>\",''.join(map(lambda x: str(x), a)))\n",
        "    print(\"\\n\")\n",
        "    print(\"Decrypting message with public key \", d ,\" . . .\\n\")\n",
        "    b = decrypt(a,d,n)\n",
        "    print (\"Your decrypted message is  : \",b)"
      ]
    }
  ],
  "metadata": {
    "accelerator": "GPU",
    "colab": {
      "collapsed_sections": [],
      "name": "RSA_Algorithm_in_Cryptography.ipynb",
      "provenance": []
    },
    "kernelspec": {
      "display_name": "Python 3",
      "name": "python3"
    },
    "language_info": {
      "name": "python"
    }
  },
  "nbformat": 4,
  "nbformat_minor": 0
}